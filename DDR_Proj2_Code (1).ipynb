{
 "cells": [
  {
   "cell_type": "markdown",
   "metadata": {
    "id": "K07JmyXfCv7u"
   },
   "source": [
    "# Dietary Compass: Personalized Food Choice Navigator"
   ]
  },
  {
   "cell_type": "markdown",
   "metadata": {
    "id": "i35BcX-0DOfC"
   },
   "source": [
    "## PART 1: Standalone Web Scraping Scripts"
   ]
  },
  {
   "cell_type": "markdown",
   "metadata": {
    "id": "OXqtoKAlDOR9"
   },
   "source": [
    "### Scraper 1: FDA Nutrition Facts Scraper"
   ]
  },
  {
   "cell_type": "markdown",
   "metadata": {
    "id": "VQdRjVScovnc"
   },
   "source": [
    "1. Scrape all the useful paragraphs and store in as dataframe"
   ]
  },
  {
   "cell_type": "code",
   "execution_count": 5,
   "metadata": {
    "colab": {
     "base_uri": "https://localhost:8080/"
    },
    "id": "4AQMqInPBpQZ",
    "outputId": "d29a4030-d42f-4338-bdf5-c937afbf8004"
   },
   "outputs": [
    {
     "name": "stdout",
     "output_type": "stream",
     "text": [
      "Nutrition Facts Information:\n",
      "                             Section  \\\n",
      "0             1. Serving Information   \n",
      "1             1. Serving Information   \n",
      "2                        2. Calories   \n",
      "3                        2. Calories   \n",
      "4                        2. Calories   \n",
      "5                       3. Nutrients   \n",
      "6                       3. Nutrients   \n",
      "7                       3. Nutrients   \n",
      "8                       3. Nutrients   \n",
      "9                       3. Nutrients   \n",
      "10                      3. Nutrients   \n",
      "11                      3. Nutrients   \n",
      "12                      3. Nutrients   \n",
      "13                      3. Nutrients   \n",
      "14                      3. Nutrients   \n",
      "15  4. The Percent Daily Value (%DV)   \n",
      "16  4. The Percent Daily Value (%DV)   \n",
      "17  4. The Percent Daily Value (%DV)   \n",
      "18  4. The Percent Daily Value (%DV)   \n",
      "19  4. The Percent Daily Value (%DV)   \n",
      "20  4. The Percent Daily Value (%DV)   \n",
      "21  4. The Percent Daily Value (%DV)   \n",
      "22  4. The Percent Daily Value (%DV)   \n",
      "23  4. The Percent Daily Value (%DV)   \n",
      "24  4. The Percent Daily Value (%DV)   \n",
      "25  4. The Percent Daily Value (%DV)   \n",
      "26  4. The Percent Daily Value (%DV)   \n",
      "27  4. The Percent Daily Value (%DV)   \n",
      "28  4. The Percent Daily Value (%DV)   \n",
      "29  4. The Percent Daily Value (%DV)   \n",
      "30  4. The Percent Daily Value (%DV)   \n",
      "31  4. The Percent Daily Value (%DV)   \n",
      "32  4. The Percent Daily Value (%DV)   \n",
      "33  4. The Percent Daily Value (%DV)   \n",
      "34  4. The Percent Daily Value (%DV)   \n",
      "35  4. The Percent Daily Value (%DV)   \n",
      "36  4. The Percent Daily Value (%DV)   \n",
      "37  4. The Percent Daily Value (%DV)   \n",
      "38  4. The Percent Daily Value (%DV)   \n",
      "\n",
      "                                              Content  \n",
      "0   When looking at the Nutrition Facts label, fir...  \n",
      "1   It’s important to realize that all the nutrien...  \n",
      "2   Calories provide a measure of how much energy ...  \n",
      "3   To achieve or maintain a healthy body weight, ...  \n",
      "4   **Remember: The number of servings you consume...  \n",
      "5   Look at section 3 in the sample label. It show...  \n",
      "6   Saturated fat, sodium, and added sugars are nu...  \n",
      "7   **What are Added Sugars and How are they Diffe...  \n",
      "8   **Total Sugars** on the Nutrition Facts label ...  \n",
      "9   **Added Sugars** on the Nutrition Facts label ...  \n",
      "10  Note: Having the word “includes” before Added ...  \n",
      "11  For example, a container of yogurt with added ...  \n",
      "12  This means that the product has 7 grams of Add...  \n",
      "13  Dietary fiber, vitamin D, calcium, iron and po...  \n",
      "14  **Remember**: You can use the label to support...  \n",
      "15  The % Daily Value (%DV) is the percentage of t...  \n",
      "16  The %DV shows how much a nutrient in a serving...  \n",
      "17  The %DV helps you determine if a serving of fo...  \n",
      "18  Do you need to know how to calculate percentag...  \n",
      "19  Note: some nutrients on the Nutrition Facts la...  \n",
      "20                           **General Guide to %DV**  \n",
      "21                 More often, choose foods that are:  \n",
      "22  : Look at the amount of sodium in one serving ...  \n",
      "23  **Compare Foods**: Use %DV to compare food pro...  \n",
      "24  **Understand Nutrient Content Claims**: Use %D...  \n",
      "25  **Dietary Trade-Offs**: You can use the %DV to...  \n",
      "26  Look at the example below for another way to s...  \n",
      "27                      Based on a 2,000 Calorie Diet  \n",
      "28               **Upper Limit - Eat \"Less than\"...**  \n",
      "29  Upper limit means it is recommended that you s...  \n",
      "30                **Lower Limit - Eat \"At least\"...**  \n",
      "31  The DV for dietary fiber is 28g, which is 100%...  \n",
      "32  Nutrients Without a %DV:  Fats, Protein, and T...  \n",
      "33  Note that  fat and Total Sugars do not list a ...  \n",
      "34  Fat: Experts could not provide a reference val...  \n",
      "35  According to the , there is evidence that diet...  \n",
      "36  Protein: A %DV is required to be listed if a c...  \n",
      "37  Current scientific evidence indicates that pro...  \n",
      "38  Total Sugars: No Daily Reference Value has bee...  \n"
     ]
    }
   ],
   "source": [
    "import requests\n",
    "import lxml.html as lx\n",
    "import re\n",
    "import json\n",
    "import pandas as pd\n",
    "\n",
    "# Define the FDA URL\n",
    "FDA_URL = \"https://www.fda.gov/food/nutrition-facts-label/how-understand-and-use-nutrition-facts-label\"\n",
    "HEADERS = {\n",
    "    \"User-Agent\": \"Mozilla/5.0 (Windows NT 10.0; Win64; x64) AppleWebKit/537.36 (KHTML, like Gecko) Chrome/99.0.4844.84 Safari/537.36\"\n",
    "}\n",
    "\n",
    "def get_paragraphs_after_heading(html, heading):\n",
    "    paragraphs = []\n",
    "\n",
    "    # Get the xpath of the heading\n",
    "    heading_path = html.getroottree().getpath(heading)\n",
    "\n",
    "    # Find all elements after this heading\n",
    "    for element in html.xpath(f\"{heading_path}/following::*\"):\n",
    "        # Stop if we hit another heading\n",
    "        if element.tag in ['h1', 'h2', 'h3', 'h4']:\n",
    "            break\n",
    "\n",
    "        if element.tag == 'p':\n",
    "            # Process paragraph text\n",
    "            para_text = \"\"\n",
    "\n",
    "            # Get initial text\n",
    "            if element.text:\n",
    "                para_text += element.text\n",
    "\n",
    "            # Process child elements\n",
    "            for child in element:\n",
    "                if child.tag in ['strong', 'b']:\n",
    "                    para_text += f\"**{child.text_content()}**\"\n",
    "                elif child.tag == 'a':\n",
    "                    para_text += f\"[{child.text_content()}]({child.get('href', '')})\"\n",
    "                if child.tail:\n",
    "                    para_text += child.tail\n",
    "\n",
    "            # Clean up\n",
    "            para_text = re.sub(r'\\*?\\(#\\d+ on sample label\\)\\*?', '', para_text).strip()\n",
    "\n",
    "            if para_text:\n",
    "                paragraphs.append(para_text)\n",
    "\n",
    "    return paragraphs\n",
    "\n",
    "def scrape_fda_nutrition_facts():\n",
    "    # Fetch the webpage\n",
    "    response = requests.get(FDA_URL, headers=HEADERS)\n",
    "\n",
    "    if response.status_code != 200:\n",
    "        print(f\"Failed to retrieve the webpage. Status code: {response.status_code}\")\n",
    "        return None\n",
    "\n",
    "    # Parse the HTML\n",
    "    html = lx.fromstring(response.content)\n",
    "\n",
    "    # Define sections to extract\n",
    "    sections = [\n",
    "        {\"id\": \"ServingInformation\", \"title\": \"1. Serving Information\"},\n",
    "        {\"id\": \"Calories\", \"title\": \"2. Calories\"},\n",
    "        {\"id\": \"Nutrients\", \"title\": \"3. Nutrients\"},\n",
    "        {\"id\": \"PercentDailyValue\", \"title\": \"4. The Percent Daily Value (%DV)\"}\n",
    "    ]\n",
    "\n",
    "    # Extract content for each section\n",
    "    results = {}\n",
    "    for section in sections:\n",
    "        # Find the anchor for this section\n",
    "        anchor = html.xpath(f'//a[@id=\"{section[\"id\"]}\" or @name=\"{section[\"id\"]}\"]')\n",
    "\n",
    "        if not anchor:\n",
    "            print(f\"Section with ID '{section['id']}' not found.\")\n",
    "            results[section[\"title\"]] = {\"title\": section[\"title\"], \"paragraphs\": [f\"Section with ID '{section['id']}' not found.\"]}\n",
    "            continue\n",
    "\n",
    "        # Find the parent heading\n",
    "        heading = None\n",
    "        current = anchor[0]\n",
    "        while current is not None:\n",
    "            if current.tag in ['h1', 'h2', 'h3', 'h4']:\n",
    "                heading = current\n",
    "                break\n",
    "            current = current.getparent()\n",
    "\n",
    "        if heading is None:\n",
    "            print(f\"Heading for section '{section['id']}' not found.\")\n",
    "            results[section[\"title\"]] = {\"title\": section[\"title\"], \"paragraphs\": [f\"Heading for section '{section['id']}' not found.\"]}\n",
    "            continue\n",
    "\n",
    "        # Get title\n",
    "        title = heading.text_content().strip()\n",
    "\n",
    "        # Get paragraphs\n",
    "        paragraphs = get_paragraphs_after_heading(html, heading)\n",
    "\n",
    "        results[section[\"title\"]] = {\n",
    "            'title': title,\n",
    "            'paragraphs': paragraphs\n",
    "        }\n",
    "\n",
    "    return results\n",
    "\n",
    "def create_nutrition_facts_dataframe(nutrition_facts):\n",
    "    # Prepare data for DataFrame\n",
    "    df_data = []\n",
    "\n",
    "    for section_title, content in nutrition_facts.items():\n",
    "        if isinstance(content, str):\n",
    "            # Handle error case\n",
    "            df_data.append({\n",
    "                'Section': section_title,\n",
    "                'Content': content,\n",
    "            })\n",
    "        else:\n",
    "            # Process normal content\n",
    "            for paragraph in content.get('paragraphs', []):\n",
    "                # Skip rows that only contain formatting marks\n",
    "                if paragraph.strip() in [\"**\", \"**Example**\"] or paragraph.strip() == \"\":\n",
    "                    continue\n",
    "\n",
    "                df_data.append({\n",
    "                    'Section': section_title,\n",
    "                    'Content': paragraph,\n",
    "                })\n",
    "\n",
    "    # Create DataFrame\n",
    "    df = pd.DataFrame(df_data)\n",
    "    return df\n",
    "\n",
    "def main():\n",
    "    # Main execution\n",
    "    nutrition_facts = scrape_fda_nutrition_facts()\n",
    "\n",
    "    if nutrition_facts:\n",
    "        # Save to JSON\n",
    "        with open(\"fda_nutrition_facts.json\", \"w\") as f:\n",
    "            json.dump(nutrition_facts, f, indent=2)\n",
    "\n",
    "        # Create DataFrame\n",
    "        nutrition_df = create_nutrition_facts_dataframe(nutrition_facts)\n",
    "\n",
    "        # Save DataFrame to CSV\n",
    "        nutrition_df.to_csv(\"nutrition_facts.csv\", index=False)\n",
    "\n",
    "        # Display DataFrame\n",
    "        print(\"Nutrition Facts Information:\")\n",
    "        print(nutrition_df)\n",
    "\n",
    "        return nutrition_df\n",
    "    else:\n",
    "        print(\"Failed to scrape nutrition facts information.\")\n",
    "        return None\n",
    "\n",
    "if __name__ == \"__main__\":\n",
    "    main()"
   ]
  },
  {
   "cell_type": "markdown",
   "metadata": {
    "id": "N25vWcC0o7Bn"
   },
   "source": [
    "2. Pick information and reorganize the dataframe to get ready of implementing in our application"
   ]
  },
  {
   "cell_type": "code",
   "execution_count": 7,
   "metadata": {
    "colab": {
     "base_uri": "https://localhost:8080/"
    },
    "id": "yJ03kfqborcn",
    "outputId": "6a7d6247-25c4-4010-d3b3-69334a71be1f"
   },
   "outputs": [
    {
     "name": "stdout",
     "output_type": "stream",
     "text": [
      "     Section                              Head  \\\n",
      "0   Section1            1. Serving Information   \n",
      "1   Section1            1. Serving Information   \n",
      "2   Section2                       2. Calories   \n",
      "3   Section2                       2. Calories   \n",
      "4   Section2                       2. Calories   \n",
      "6   Section3                      3. Nutrients   \n",
      "7   Section4                      3. Nutrients   \n",
      "8   Section4                      3. Nutrients   \n",
      "9   Section4                      3. Nutrients   \n",
      "10  Section4                      3. Nutrients   \n",
      "13  Section5                      3. Nutrients   \n",
      "15  Section6  4. The Percent Daily Value (%DV)   \n",
      "16  Section6  4. The Percent Daily Value (%DV)   \n",
      "17  Section6  4. The Percent Daily Value (%DV)   \n",
      "18  Section6  4. The Percent Daily Value (%DV)   \n",
      "19  Section6  4. The Percent Daily Value (%DV)   \n",
      "23  Section7  4. The Percent Daily Value (%DV)   \n",
      "24  Section7  4. The Percent Daily Value (%DV)   \n",
      "25  Section7  4. The Percent Daily Value (%DV)   \n",
      "35  Section8  4. The Percent Daily Value (%DV)   \n",
      "36  Section8  4. The Percent Daily Value (%DV)   \n",
      "37  Section8  4. The Percent Daily Value (%DV)   \n",
      "38  Section8  4. The Percent Daily Value (%DV)   \n",
      "\n",
      "                                              Content  \n",
      "0   When looking at the Nutrition Facts label, fir...  \n",
      "1   It’s important to realize that all the nutrien...  \n",
      "2   Calories provide a measure of how much energy ...  \n",
      "3   To achieve or maintain a healthy body weight, ...  \n",
      "4   **Remember: The number of servings you consume...  \n",
      "6   Nutrients to get less of: Saturated Fat, Sodiu...  \n",
      "7   **What are Added Sugars and How are they Diffe...  \n",
      "8   **Total Sugars** on the Nutrition Facts label ...  \n",
      "9   **Added Sugars** on the Nutrition Facts label ...  \n",
      "10  Note: Having the word “includes” before Added ...  \n",
      "13  Nutrients to get more of: Dietary Fiber, Vitam...  \n",
      "15  The % Daily Value (%DV) is the percentage of t...  \n",
      "16  The %DV shows how much a nutrient in a serving...  \n",
      "17  The %DV helps you determine if a serving of fo...  \n",
      "18  Do you need to know how to calculate percentag...  \n",
      "19  Note: some nutrients on the Nutrition Facts la...  \n",
      "23  **Compare Foods**: Use %DV to compare food pro...  \n",
      "24  **Understand Nutrient Content Claims**: Use %D...  \n",
      "25  **Dietary Trade-Offs**: You can use the %DV to...  \n",
      "35  According to the , there is evidence that diet...  \n",
      "36  Protein: A %DV is required to be listed if a c...  \n",
      "37  Current scientific evidence indicates that pro...  \n",
      "38  Total Sugars: No Daily Reference Value has bee...  \n"
     ]
    }
   ],
   "source": [
    "# Read the nutrition_facts.csv file into a DataFrame\n",
    "nutrition_df = pd.read_csv('nutrition_facts.csv')\n",
    "\n",
    "# Rename the 'Section' column to 'Head' and add a new 'Section' column\n",
    "nutrition_df = nutrition_df.rename(columns={'Section': 'Head'})\n",
    "nutrition_df['Section'] = None\n",
    "\n",
    "# Define a function to assign sections\n",
    "def assign_sections(df):\n",
    "    # Section 1: Rows 0-1\n",
    "    df.loc[0:1, 'Section'] = 'Section1'\n",
    "    # Section 2: Rows 2-4\n",
    "    df.loc[2:4, 'Section'] = 'Section2'\n",
    "    # Section 3: Row 6\n",
    "    df.loc[6, 'Section'] = 'Section3'\n",
    "    df.loc[6, 'Content'] = 'Nutrients to get less of: Saturated Fat, Sodium, and Added Sugars. ' + df.loc[6, 'Content']\n",
    "    # Section 4: Rows 7-10\n",
    "    df.loc[7:10, 'Section'] = 'Section4'\n",
    "    # Section 5: Row 13\n",
    "    df.loc[13, 'Section'] = 'Section5'\n",
    "    df.loc[13, 'Content'] = 'Nutrients to get more of: Dietary Fiber, Vitamin D, Calcium, Iron, and Potassium. ' + df.loc[13, 'Content']\n",
    "    # Section 6: Rows 15-19\n",
    "    df.loc[15:19, 'Section'] = 'Section6'\n",
    "    # Section 7: Rows 23-25\n",
    "    df.loc[23:25, 'Section'] = 'Section7'\n",
    "    # Section 8: Rows 35-38\n",
    "    df.loc[35:38, 'Section'] = 'Section8'\n",
    "\n",
    "# Call the function to assign sections\n",
    "assign_sections(nutrition_df)\n",
    "\n",
    "# Filter out rows that have not been assigned to a section\n",
    "nutrition_df = nutrition_df[nutrition_df['Section'].notnull()]\n",
    "\n",
    "# Keep all other columns intact\n",
    "nutrition_df = nutrition_df[['Section', 'Head'] + [col for col in nutrition_df.columns if col not in ['Section', 'Head']]]\n",
    "\n",
    "# Print the result\n",
    "print(nutrition_df)"
   ]
  },
  {
   "cell_type": "markdown",
   "metadata": {
    "id": "3BTWnm7MDMa5"
   },
   "source": [
    "### Scraper 2: Wikipedia RDI Scraper"
   ]
  },
  {
   "cell_type": "code",
   "execution_count": 9,
   "metadata": {
    "colab": {
     "base_uri": "https://localhost:8080/"
    },
    "id": "HGwynlOEBpni",
    "outputId": "878b1e9c-9268-4789-8df3-749df49ca5db"
   },
   "outputs": [
    {
     "name": "stdout",
     "output_type": "stream",
     "text": [
      "Processed Data:\n",
      "                Nutrient  DV_Value DV_Unit\n",
      "0              Total fat      78.0       g\n",
      "1  Saturated fatty acids      20.0       g\n",
      "2            Cholesterol     300.0      mg\n",
      "3                 Sodium    2300.0      mg\n",
      "4              Potassium    4700.0      mg\n",
      "5     Total carbohydrate     275.0       g\n",
      "6           Added sugars      50.0       g\n",
      "7          Dietary fiber      28.0       g\n",
      "8                Protein      50.0       g\n"
     ]
    }
   ],
   "source": [
    "import pandas as pd\n",
    "import requests\n",
    "import re\n",
    "\n",
    "# URL for the Wikipedia page containing nutritional data\n",
    "WIKI_URL = \"https://en.wikipedia.org/wiki/Reference_Daily_Intake\"\n",
    "\n",
    "# Headers to avoid being blocked\n",
    "HEADERS = {\n",
    "    \"User-Agent\": \"Mozilla/5.0 (Windows NT 10.0; Win64; x64) AppleWebKit/537.36 (KHTML, like Gecko) Chrome/91.0.4472.124 Safari/537.36\"\n",
    "}\n",
    "\n",
    "def clean_text(string):\n",
    "    return re.sub(r'\\s*\\[.*?\\]|,|\\n', '', string).strip() if isinstance(string, str) else string\n",
    "\n",
    "def extract_value_and_unit(value):\n",
    "    if isinstance(value, str):\n",
    "        match = re.search(r'(\\d+\\.?\\d*)\\s*([a-zA-Z]+)', value)\n",
    "        return (float(match.group(1)), match.group(2)) if match else (float(re.findall(r'\\d+\\.?\\d*', value)[0]), \"\") if re.findall(r'\\d+\\.?\\d*', value) else (None, \"\")\n",
    "    return None, \"\"\n",
    "\n",
    "# Make the request to Wikipedia\n",
    "response = requests.get(WIKI_URL, headers=HEADERS)\n",
    "\n",
    "if response.status_code == 200:\n",
    "    # Use pandas to extract tables from the page\n",
    "    tables = pd.read_html(WIKI_URL)\n",
    "\n",
    "    # Find the table with nutritional data\n",
    "    for table in tables:\n",
    "        if any(\"Nutrient\" in str(col) for col in table.columns):\n",
    "\n",
    "            # Clean the table data\n",
    "            table.columns = [clean_text(col) for col in table.columns]\n",
    "            table = table.map(clean_text)\n",
    "\n",
    "            # Create new dataframe to store processed data\n",
    "            processed_table = pd.DataFrame({'Nutrient': table['Nutrient']})\n",
    "\n",
    "            # Extract values and units\n",
    "            for col in table.columns[1:]:\n",
    "                values_and_units = table[col].apply(extract_value_and_unit)\n",
    "                processed_table[f\"{col}_Value\"] = [x[0] for x in values_and_units]\n",
    "                processed_table[f\"{col}_Unit\"] = [x[1] for x in values_and_units]\n",
    "\n",
    "            # Display the entire table with units\n",
    "            print(\"Processed Data:\")\n",
    "            pd.set_option('display.max_rows', None)\n",
    "            pd.set_option('display.max_columns', None)\n",
    "            pd.set_option('display.width', 1000)\n",
    "            print(processed_table)\n",
    "            break\n",
    "    else:\n",
    "        print(\"No suitable table found on the page.\")\n",
    "else:\n",
    "    print(f\"Failed to fetch data from Wikipedia. Status code: {response.status_code}\")"
   ]
  },
  {
   "cell_type": "markdown",
   "metadata": {
    "id": "-vc9yiYYDYjs"
   },
   "source": [
    "## PART 2: Integrated Main Application Code"
   ]
  },
  {
   "cell_type": "markdown",
   "metadata": {
    "id": "B_RhqD_ukujZ"
   },
   "source": [
    "1. Preparation"
   ]
  },
  {
   "cell_type": "code",
   "execution_count": 12,
   "metadata": {
    "id": "mBfB8q43lMBE"
   },
   "outputs": [],
   "source": [
    "import requests\n",
    "import pandas as pd\n",
    "import time\n",
    "import json\n",
    "import re\n",
    "import matplotlib.pyplot as plt\n",
    "from typing import Dict, Optional, List\n",
    "import random\n",
    "import io\n",
    "import base64\n",
    "from IPython.display import display, HTML\n",
    "import sys\n",
    "\n",
    "# Constants\n",
    "SEARCH_URL = \"https://world.openfoodfacts.org/cgi/search.pl\"\n",
    "PRODUCT_URL = \"https://world.openfoodfacts.org/api/v0/product/{}.json\"\n",
    "\n",
    "# Sleep time between API requests to avoid overwhelming the server\n",
    "SLEEP_TIME = 0.5\n",
    "\n",
    "# Map API nutrient with Wiki data\n",
    "NUTRIENT_MAPPING = {\n",
    "    \"energy-kcal_100g\": \"Calories\",\n",
    "    \"fat_100g\": \"Total fat\",\n",
    "    \"saturated-fat_100g\": \"Saturated fatty acids\",\n",
    "    \"cholesterol_100g\": \"Cholesterol\",\n",
    "    \"sodium_100g\": \"Sodium\",\n",
    "    \"carbohydrates_100g\": \"Total carbohydrate\",\n",
    "    \"sugars_100g\": \"Added sugars\",\n",
    "    \"fiber_100g\": \"Dietary fiber\",\n",
    "    \"proteins_100g\": \"Protein\"\n",
    "}\n",
    "\n",
    "# Dietary options mapping to API tags\n",
    "DIETARY_OPTIONS = {\n",
    "    \"vegan\": \"en:vegan\",\n",
    "    \"vegetarian\": \"en:vegetarian\",\n",
    "    \"gluten-free\": \"en:gluten-free\",\n",
    "    \"lactose-free\": \"en:lactose-free\"\n",
    "}\n",
    "\n",
    "# Global cache to store API responses and avoid redundant calls\n",
    "cache = {}"
   ]
  },
  {
   "cell_type": "markdown",
   "metadata": {
    "id": "F2Bvr5-Bk4Dl"
   },
   "source": [
    "2. API Interation"
   ]
  },
  {
   "cell_type": "code",
   "execution_count": 14,
   "metadata": {
    "id": "29MWOJ2OlN7Z"
   },
   "outputs": [],
   "source": [
    "# Function to request data with rate limiting\n",
    "def make_request(url, params=None):\n",
    "    try:\n",
    "        # Create a cache key from the URL and parameters\n",
    "        cache_key = f\"{url}_{str(params)}\"\n",
    "\n",
    "        # Return cached result if available\n",
    "        if cache_key in cache:\n",
    "            return cache[cache_key]\n",
    "\n",
    "        # Make the request\n",
    "        response = requests.get(url, params=params, headers=HEADERS)\n",
    "        time.sleep(SLEEP_TIME)\n",
    "\n",
    "        # Check if the request was successful\n",
    "        if response.status_code == 200:\n",
    "            # Parse JSON response\n",
    "            data = response.json()\n",
    "            cache[cache_key] = data\n",
    "            return data\n",
    "        else:\n",
    "            print(f\"Error: Request failed with status code {response.status_code}\")\n",
    "            return None\n",
    "    except Exception as e:\n",
    "        print(f\"Error making request: {e}\")\n",
    "        return None\n",
    "\n",
    "# Function to search for products by name\n",
    "def fetch_products_by_name(product_name, fields=None):\n",
    "    params = {\n",
    "        \"search_terms\": product_name,\n",
    "        \"search_simple\": 1,\n",
    "        \"action\": \"process\",\n",
    "        \"json\": 1,\n",
    "    }\n",
    "\n",
    "    if fields:\n",
    "        params[\"fields\"] = fields\n",
    "\n",
    "    data = make_request(SEARCH_URL, params)\n",
    "\n",
    "    if data and \"products\" in data:\n",
    "        return data[\"products\"]\n",
    "    return []\n",
    "\n",
    "# Function to get product details by barcode\n",
    "def fetch_product_details(barcode):\n",
    "    data = make_request(PRODUCT_URL.format(barcode))\n",
    "\n",
    "    if data and data.get(\"status\") == 1:\n",
    "        return data[\"product\"]\n",
    "    return None"
   ]
  },
  {
   "cell_type": "markdown",
   "metadata": {
    "id": "Ux76V1Mqk6B1"
   },
   "source": [
    "3. User Interaction"
   ]
  },
  {
   "cell_type": "code",
   "execution_count": 16,
   "metadata": {
    "id": "QV2VlrD2lOUO"
   },
   "outputs": [],
   "source": [
    "# Function to get product from user (by name or barcode)\n",
    "def get_product_from_user():\n",
    "    print(\"\\nSearch Options:\")\n",
    "    print(\"1. Search by Product Name\")\n",
    "    print(\"2. Search by Barcode\")\n",
    "    print(\"3. Go Back to Main Menu\")\n",
    "\n",
    "    choice = input(\"Select (1-3): \").strip()\n",
    "\n",
    "    if choice == \"1\":\n",
    "        # Search by product name\n",
    "        product_name = input(\"\\nEnter a food name (e.g., 'chocolate', 'milk', 'pasta'): \")\n",
    "        print(f\"\\nSearching for {product_name}...\")\n",
    "        products = fetch_products_by_name(product_name)\n",
    "\n",
    "        if not products:\n",
    "            print(\"No products found. Try a different name.\")\n",
    "            return None\n",
    "\n",
    "        # Filter out empty product names\n",
    "        valid_products = [p for p in products if p.get(\"product_name\") and p.get(\"product_name\").strip()]\n",
    "\n",
    "        if not valid_products:\n",
    "            print(\"No valid products found with proper names. Try a different search term.\")\n",
    "            return None\n",
    "\n",
    "        # Display search results for user to choose from\n",
    "        print(\"\\nAvailable products:\")\n",
    "        for i, product in enumerate(valid_products[:10], 1):\n",
    "            barcode = product.get('code', 'No barcode')\n",
    "            print(f\"{i}. {product.get('product_name', 'Unknown')} (Barcode: {barcode})\")\n",
    "\n",
    "        print(f\"{len(valid_products[:10])+1}. Go Back to Search Options\")\n",
    "\n",
    "        try:\n",
    "            selected_index = int(input(\"\\nSelect a product by number: \")) - 1\n",
    "            if 0 <= selected_index < len(valid_products):\n",
    "                # Retrieve product details\n",
    "                return fetch_product_details(valid_products[selected_index][\"code\"])\n",
    "            elif selected_index == len(valid_products):\n",
    "                # Go back to search options\n",
    "                return get_product_from_user()\n",
    "            else:\n",
    "                print(\"Invalid selection.\")\n",
    "                return None\n",
    "        except ValueError:\n",
    "            print(\"Invalid input. Please enter a number.\")\n",
    "            return None\n",
    "\n",
    "    elif choice == \"2\":\n",
    "        # Search by barcode\n",
    "        barcode = input(\"\\nEnter product barcode: \").strip()\n",
    "        print(f\"\\nSearching for barcode {barcode}...\")\n",
    "        product = fetch_product_details(barcode)\n",
    "\n",
    "        if not product:\n",
    "            print(\"Product not found. Try a different barcode.\")\n",
    "\n",
    "        return product\n",
    "\n",
    "    elif choice == \"3\":\n",
    "        # Go back to main menu\n",
    "        return \"main_menu\"\n",
    "\n",
    "    else:\n",
    "        print(\"Invalid choice.\")\n",
    "        return None"
   ]
  },
  {
   "cell_type": "markdown",
   "metadata": {
    "id": "eLJAdGbzk-YQ"
   },
   "source": [
    "4. Data Processing & Cleaning"
   ]
  },
  {
   "cell_type": "code",
   "execution_count": 18,
   "metadata": {
    "id": "hqZo6o8nlOik"
   },
   "outputs": [],
   "source": [
    "# Function to clean text (remove footnotes, special characters, etc.)\n",
    "def clean_text(string):\n",
    "    if isinstance(string, str):\n",
    "        return re.sub(r'\\s*\\[.*?\\]|,|\\n', '', string).strip()\n",
    "    return string\n",
    "\n",
    "# Function to extract numeric values from strings\n",
    "def extract_numeric(value):\n",
    "    if isinstance(value, str):\n",
    "        num_match = re.findall(r'\\d+\\.?\\d*', value)\n",
    "        if num_match:\n",
    "            return float(num_match[0])\n",
    "    return None"
   ]
  },
  {
   "cell_type": "markdown",
   "metadata": {
    "id": "kssRcJswlAib"
   },
   "source": [
    "5.1 Food Health Analysis - Allergen Check"
   ]
  },
  {
   "cell_type": "code",
   "execution_count": 20,
   "metadata": {
    "id": "jNBNF7J_nCEo"
   },
   "outputs": [],
   "source": [
    "# Function to check product allergens\n",
    "def check_allergens(product):\n",
    "    allergens = product.get(\"allergens_tags\", [])\n",
    "    allergen_list = [a.replace(\"en:\", \"\").capitalize() for a in allergens]\n",
    "    if not allergen_list:\n",
    "        return \"No allergens listed\"\n",
    "    return \", \".join(allergen_list)"
   ]
  },
  {
   "cell_type": "markdown",
   "metadata": {
    "id": "L8ly264PmvYW"
   },
   "source": [
    "5.2 Food Health Analysis - Processing Score"
   ]
  },
  {
   "cell_type": "code",
   "execution_count": 22,
   "metadata": {
    "id": "8eyyumf9nB1Y"
   },
   "outputs": [],
   "source": [
    "# Function to calculate processing score\n",
    "def calculate_processing_score(product):\n",
    "    # Use get() with default value to handle missing nova_group\n",
    "    nova_score = int(product.get(\"nova_group\", 4))\n",
    "    additives_count = len(product.get(\"additives_tags\", []))\n",
    "\n",
    "    # Calculate a simple processing score (higher is less processed)\n",
    "    processing_score = 100 - (nova_score * 15 + min(additives_count * 5, 40))\n",
    "    return max(0, processing_score)\n",
    "\n",
    "# Function to get NOVA explanation\n",
    "def get_nova_explanation(nova_score):\n",
    "    explanations = {\n",
    "        1: \"Unprocessed or minimally processed foods\",\n",
    "        2: \"Processed culinary ingredients\",\n",
    "        3: \"Processed foods\",\n",
    "        4: \"Ultra-processed foods\"\n",
    "    }\n",
    "    return explanations.get(nova_score, \"Unknown processing level\")"
   ]
  },
  {
   "cell_type": "markdown",
   "metadata": {
    "id": "ok1EZltimvoe"
   },
   "source": [
    "5.3 Food Health Analysis - Find Healthier Alternatives"
   ]
  },
  {
   "cell_type": "code",
   "execution_count": 24,
   "metadata": {
    "id": "otVoxkfSnBmO"
   },
   "outputs": [],
   "source": [
    "# Function to analyze healthier alternatives\n",
    "def analyze_healthier_alternatives(product):\n",
    "    # Exit early if no product data is available\n",
    "    if not product:\n",
    "        print(\"\\nNo product data available to find alternatives.\")\n",
    "        return\n",
    "\n",
    "    product_name = product.get(\"product_name\", \"Unknown\")\n",
    "    print(f\"\\nFinding healthier alternatives for {product_name}...\")\n",
    "\n",
    "    # Collect search strategies\n",
    "    search_terms = []\n",
    "\n",
    "    # Strategy 1: Extract main product category\n",
    "    categories = product.get(\"categories_tags\", [])\n",
    "    main_category = categories[0].replace(\"en:\", \"\") if categories else None\n",
    "\n",
    "    # Strategy 2: Extract specific product type from categories\n",
    "    product_type = None\n",
    "    relevant_types = [\"spread\", \"cream\", \"sauce\", \"butter\", \"oil\", \"drink\",\n",
    "                      \"snack\", \"chocolate\", \"yogurt\", \"cheese\", \"milk\"]\n",
    "\n",
    "    for category in categories:\n",
    "        category_clean = category.replace(\"en:\", \"\").lower()\n",
    "        if any(type_word in category_clean for type_word in relevant_types):\n",
    "            product_type = category_clean\n",
    "            break\n",
    "\n",
    "    # Strategy 3: Extract product type from product name\n",
    "    if not product_type and len(product_name.split()) > 1:\n",
    "        name_words = product_name.lower().split()\n",
    "        for word in name_words:\n",
    "            if any(type_word == word for type_word in relevant_types):\n",
    "                product_type = word\n",
    "                break\n",
    "\n",
    "    # Strategy 4: Use product brands to find items from competitors\n",
    "    brands = product.get(\"brands_tags\", [])\n",
    "    main_brand = brands[0].replace(\"en:\", \"\") if brands else None\n",
    "\n",
    "    # Build list of search terms in order of relevance\n",
    "    if product_type:\n",
    "        search_terms.append(product_type)\n",
    "\n",
    "    # Use more specific categories if available\n",
    "    if categories and len(categories) > 1:\n",
    "        second_category = categories[1].replace(\"en:\", \"\")\n",
    "        if second_category and \"food\" not in second_category.lower():\n",
    "            search_terms.append(second_category)\n",
    "\n",
    "    # Add main category if it's specific enough\n",
    "    if main_category and not any(generic in main_category.lower()\n",
    "                             for generic in [\"food\", \"beverage\", \"product\"]):\n",
    "        search_terms.append(main_category)\n",
    "\n",
    "    # Use brand competitors as fallback\n",
    "    if main_brand:\n",
    "        search_terms.append(main_brand)\n",
    "\n",
    "    # Finally use the first word of product name as fallback\n",
    "    if not search_terms:\n",
    "        search_terms.append(product_name.split()[0])\n",
    "\n",
    "    # Remove duplicates while preserving order\n",
    "    search_terms = list(dict.fromkeys(search_terms))\n",
    "\n",
    "    # Log search strategy to help user understand results\n",
    "    print(f\"Search strategy: Using terms {', '.join(search_terms)}\")\n",
    "\n",
    "    # Search for each term and collect all results\n",
    "    all_products = []\n",
    "    for term in search_terms:\n",
    "        products = fetch_products_by_name(term)\n",
    "        if products:\n",
    "            for p in products:\n",
    "                if p not in all_products:  # Avoid duplicates\n",
    "                    all_products.append(p)\n",
    "\n",
    "    if not all_products:\n",
    "        print(\"\\nNo similar products found.\")\n",
    "        return\n",
    "\n",
    "    print(f\"Found {len(all_products)} products to analyze.\")\n",
    "\n",
    "    # Process and score products to find alternatives\n",
    "    processed_products = []\n",
    "\n",
    "    # Get nutritional values of original product for comparison\n",
    "    original_nutrients = product.get(\"nutriments\", {})\n",
    "    original_calories = original_nutrients.get(\"energy-kcal_100g\", 0)\n",
    "    original_sugar = original_nutrients.get(\"sugars_100g\", 0)\n",
    "    original_fat = original_nutrients.get(\"fat_100g\", 0)\n",
    "    original_salt = original_nutrients.get(\"salt_100g\", 0)\n",
    "    original_nutriscore = product.get(\"nutriscore_grade\", \"Unknown\")\n",
    "\n",
    "    for p in all_products:\n",
    "        # Skip products without name\n",
    "        if not p.get(\"product_name\"):\n",
    "            continue\n",
    "\n",
    "        # Skip the current product\n",
    "        if p.get(\"product_name\") == product_name:\n",
    "            continue\n",
    "\n",
    "        p_nutrients = p.get(\"nutriments\", {})\n",
    "\n",
    "        # Ensure we have the basic nutritional values\n",
    "        if (\"energy-kcal_100g\" not in p_nutrients or\n",
    "            \"sugars_100g\" not in p_nutrients or\n",
    "            \"fat_100g\" not in p_nutrients):\n",
    "            continue\n",
    "\n",
    "        # Calculate similarity and health scores\n",
    "        p_nutriscore = p.get(\"nutriscore_grade\", \"Unknown\")\n",
    "\n",
    "        # Check category match for relevance\n",
    "        category_match = False\n",
    "        p_categories = p.get(\"categories_tags\", [])\n",
    "\n",
    "        if categories and p_categories:\n",
    "            common_categories = set(categories) & set(p_categories)\n",
    "            category_match = len(common_categories) > 0\n",
    "\n",
    "        # Calculate nutrient improvements over original\n",
    "        calories_better = original_calories > 0 and p_nutrients.get(\"energy-kcal_100g\", 0) < original_calories\n",
    "        sugar_better = original_sugar > 0 and p_nutrients.get(\"sugars_100g\", 0) < original_sugar\n",
    "        fat_better = original_fat > 0 and p_nutrients.get(\"fat_100g\", 0) < original_fat\n",
    "        salt_better = original_salt > 0 and p_nutrients.get(\"salt_100g\", 0) < original_salt\n",
    "\n",
    "        # Convert nutriscore to numeric (a=0, e=4)\n",
    "        def score_to_numeric(score):\n",
    "            if score and score.lower() in 'abcde':\n",
    "                return ord(score.lower()) - ord('a')\n",
    "            return 4  # Default to worst score\n",
    "\n",
    "        original_score_num = score_to_numeric(original_nutriscore)\n",
    "        p_score_num = score_to_numeric(p_nutriscore)\n",
    "        nutriscore_better = p_score_num < original_score_num\n",
    "\n",
    "        # Calculate overall health improvement score (higher is better)\n",
    "        health_improvement = 0\n",
    "        health_improvement += 3 if calories_better else 0\n",
    "        health_improvement += 2 if sugar_better else 0\n",
    "        health_improvement += 2 if fat_better else 0\n",
    "        health_improvement += 1 if salt_better else 0\n",
    "        health_improvement += 3 if nutriscore_better else 0\n",
    "\n",
    "        # Calculate relevance score (higher is more relevant)\n",
    "        relevance_score = 0\n",
    "        relevance_score += 5 if category_match else 0\n",
    "        relevance_score += 2 if any(term.lower() in p.get(\"product_name\", \"\").lower() for term in search_terms) else 0\n",
    "\n",
    "        # Store the product with its scores\n",
    "        processed_products.append({\n",
    "            \"name\": p.get(\"product_name\", \"Unknown\"),\n",
    "            \"nutri_score\": p_nutriscore,\n",
    "            \"calories\": p_nutrients.get(\"energy-kcal_100g\", 0),\n",
    "            \"sugar\": p_nutrients.get(\"sugars_100g\", 0),\n",
    "            \"fat\": p_nutrients.get(\"fat_100g\", 0),\n",
    "            \"salt\": p_nutrients.get(\"salt_100g\", 0),\n",
    "            \"health_improvement\": health_improvement,\n",
    "            \"relevance\": relevance_score,\n",
    "            \"category_match\": category_match\n",
    "        })\n",
    "\n",
    "    # Filter out invalid products\n",
    "    valid_products = [p for p in processed_products\n",
    "                     if p[\"calories\"] > 0 and p[\"sugar\"] >= 0 and p[\"fat\"] >= 0]\n",
    "\n",
    "    if not valid_products:\n",
    "        print(\"\\nNo comparable products with complete nutrition info found.\")\n",
    "        return\n",
    "\n",
    "    # Sort by combined score (relevance + health improvement)\n",
    "    # For products with high relevance, we prioritize health improvements\n",
    "    ranked_products = sorted(\n",
    "        valid_products,\n",
    "        key=lambda p: (-(p[\"relevance\"] + p[\"health_improvement\"]), -p[\"relevance\"])\n",
    "    )\n",
    "\n",
    "    # Display top 5 healthier alternatives\n",
    "    print(\"\\nTop 5 Most Relevant Healthy Alternatives:\\n\")\n",
    "    for i, product in enumerate(ranked_products[:5], 1):\n",
    "        health_indicators = []\n",
    "        if product[\"calories\"] < original_calories:\n",
    "            health_indicators.append(\"Lower calories\")\n",
    "        if product[\"sugar\"] < original_sugar:\n",
    "            health_indicators.append(\"Lower sugar\")\n",
    "        if product[\"fat\"] < original_fat:\n",
    "            health_indicators.append(\"Lower fat\")\n",
    "\n",
    "        health_benefits = \", \".join(health_indicators) if health_indicators else \"Similar nutritional profile\"\n",
    "\n",
    "        print(f\"{i}. {product['name']}\")\n",
    "        print(f\"   Nutri-Score: {product['nutri_score'].upper() if product['nutri_score'] != 'Unknown' else 'Not available'}\")\n",
    "        print(f\"   Calories: {product['calories']:.1f} kcal per 100g\")\n",
    "        print(f\"   Sugar: {product['sugar']:.1f}g per 100g\")\n",
    "        print(f\"   Fat: {product['fat']:.1f}g per 100g\")\n",
    "        print(f\"   Benefits: {health_benefits}\")\n",
    "        print(f\"   {'✓ Similar category' if product['category_match'] else 'Different category'}\\n\")\n",
    "\n",
    "    return"
   ]
  },
  {
   "cell_type": "markdown",
   "metadata": {
    "id": "aFdewjEXmwGX"
   },
   "source": [
    "5.4 Food Health Analysis - Nutritional Analysis"
   ]
  },
  {
   "cell_type": "code",
   "execution_count": 26,
   "metadata": {
    "id": "7BLLgDwxmulg"
   },
   "outputs": [],
   "source": [
    "# Function to fix %DV calculation and visualization to account for portion sizes\n",
    "def calculate_dv_with_portion_size(product, dv_data):\n",
    "\n",
    "    food_nutrients = product.get(\"nutriments\", {})\n",
    "    portion_size = product.get(\"serving_size\", 100)\n",
    "\n",
    "    # Improved serving size extraction logic\n",
    "    if isinstance(portion_size, str):\n",
    "        # First try to extract gram value in parentheses\n",
    "        parentheses_match = re.search(r'\\((\\d+\\.?\\d*)\\s*g\\)', portion_size)\n",
    "        if parentheses_match:\n",
    "            portion_size = float(parentheses_match.group(1))\n",
    "        else:\n",
    "            # If no gram value in parentheses, try to extract any number\n",
    "            match = re.search(r'\\d+\\.?\\d*', portion_size)\n",
    "            if match:\n",
    "                portion_size = float(match.group())\n",
    "            else:\n",
    "                portion_size = 100\n",
    "\n",
    "    print(f\"Serving Size: {portion_size}g\")\n",
    "\n",
    "    nutrients_found = []\n",
    "    dv_values = []\n",
    "    nutrient_amounts = []\n",
    "    nutrient_units = []\n",
    "\n",
    "    for openfood_key, wiki_name in NUTRIENT_MAPPING.items():\n",
    "        if openfood_key in food_nutrients:\n",
    "            food_value = food_nutrients.get(openfood_key, 0)\n",
    "\n",
    "            # Adjust for portion size\n",
    "            adjusted_value = (food_value * portion_size) / 100\n",
    "\n",
    "            # Find the matching row in the DV data\n",
    "            dv_row = dv_data[dv_data[\"Nutrient\"].str.lower() == wiki_name.lower()]\n",
    "\n",
    "            if not dv_row.empty and dv_row.iloc[0, 1] not in [0, None]:\n",
    "                dv = dv_row.iloc[0, 1]  # Get the daily value\n",
    "                dv_unit = dv_row.iloc[0, 2] if len(dv_row.iloc[0]) > 2 else \"g\"\n",
    "                dv_percentage = (adjusted_value / dv) * 100 if dv else 0\n",
    "\n",
    "                # Store for visualization\n",
    "                nutrients_found.append(wiki_name)\n",
    "                dv_values.append(dv_percentage)\n",
    "                nutrient_amounts.append(adjusted_value)\n",
    "                nutrient_units.append(dv_unit)\n",
    "\n",
    "                # Print the information\n",
    "                print(f\"{wiki_name}: {adjusted_value:.2f}{dv_unit} ({dv_percentage:.2f}% DV)\")\n",
    "\n",
    "    # Create visualization\n",
    "    if nutrients_found:\n",
    "        try:\n",
    "            # Create the plot\n",
    "            plt.figure(figsize=(10, 6))\n",
    "\n",
    "            # Color coding based on DV percentages\n",
    "            colors = ['green' if val < 20 else 'orange' if val < 50 else 'red' for val in dv_values]\n",
    "\n",
    "            # Create horizontal bar chart\n",
    "            bars = plt.barh(nutrients_found, dv_values, color=colors)\n",
    "\n",
    "            # Add percentage labels to the end of each bar\n",
    "            for i, bar in enumerate(bars):\n",
    "                width = bar.get_width()\n",
    "                plt.text(width + 1, bar.get_y() + bar.get_height()/2,\n",
    "                         f\"{dv_values[i]:.1f}% ({nutrient_amounts[i]:.1f}{nutrient_units[i]})\",\n",
    "                         va='center')\n",
    "\n",
    "            # Add reference lines\n",
    "            plt.axvline(x=20, color='orange', linestyle='--', alpha=0.7)\n",
    "            plt.axvline(x=50, color='red', linestyle='--', alpha=0.7)\n",
    "\n",
    "            # Add labels and title\n",
    "            plt.xlabel('% Daily Value')\n",
    "            plt.title('Nutritional Content as % of Daily Value')\n",
    "            plt.tight_layout()\n",
    "\n",
    "            # Display the chart inline in notebook\n",
    "            plt.show(block=False)\n",
    "            plt.close()\n",
    "\n",
    "        except Exception as e:\n",
    "            print(f\"Error creating visualization: {e}\")\n",
    "            print(\"Falling back to text-based representation...\")\n",
    "\n",
    "            # Create simple text bars as fallback\n",
    "            print(\"\\n\\nNutritional Content as % of Daily Value:\")\n",
    "            print(\"=\" * 50)\n",
    "            for i, nutrient in enumerate(nutrients_found):\n",
    "                percent = dv_values[i]\n",
    "                level = \"LOW\" if percent < 20 else \"MEDIUM\" if percent < 50 else \"HIGH\"\n",
    "                print(f\"{nutrient}: {percent:.1f}% ({level})\")\n",
    "            print(\"=\" * 50)\n",
    "    else:\n",
    "        print(\"\\nNot enough nutrition data available for visualization.\")\n",
    "\n",
    "    return nutrients_found, dv_values, nutrient_amounts"
   ]
  },
  {
   "cell_type": "markdown",
   "metadata": {
    "id": "ysFI-MFOlChM"
   },
   "source": [
    "6. Nutritional Education & Information Display"
   ]
  },
  {
   "cell_type": "code",
   "execution_count": 28,
   "metadata": {
    "id": "De9lXSvhlPHj"
   },
   "outputs": [],
   "source": [
    "# Function to integrate nutrition tag educational content\n",
    "def integrate_fda_education():\n",
    "    # Create a loop to stay in the nutrition label information menu\n",
    "    while True:\n",
    "        # Display available sections to the user\n",
    "        print(\"\\nNutrition Facts Label Information Sections:\")\n",
    "        print(\"1. Serving Information\")\n",
    "        print(\"2. Calories\")\n",
    "        print(\"3. Nutrients\")\n",
    "        print(\"4. The Percent Daily Value (%DV)\")\n",
    "        print(\"5. Return to Main Menu\")\n",
    "\n",
    "        # Get user selection\n",
    "        choice = input(\"\\nSelect a section to learn more (1-5): \").strip()\n",
    "\n",
    "        if choice == \"1\":\n",
    "            head = \"1. Serving Information\"\n",
    "        elif choice == \"2\":\n",
    "            head = \"2. Calories\"\n",
    "        elif choice == \"3\":\n",
    "            head = \"3. Nutrients\"\n",
    "        elif choice == \"4\":\n",
    "            head = \"4. The Percent Daily Value (%DV)\"\n",
    "        elif choice == \"5\":\n",
    "            # Return to main menu\n",
    "            return\n",
    "        else:\n",
    "            print(\"Invalid choice. Please try again.\")\n",
    "            continue\n",
    "\n",
    "        # Get relevant rows from the nutrition_df for the selected head\n",
    "        section_content = nutrition_df[nutrition_df['Head'] == head]\n",
    "\n",
    "        if section_content.empty:\n",
    "            print(\"No information available for this section.\")\n",
    "            continue\n",
    "\n",
    "        # Display the section header\n",
    "        print(f\"\\n{head}\")\n",
    "        print(\"-\" * 50)\n",
    "\n",
    "        # Display the content for each row in the section\n",
    "        for _, row in section_content.iterrows():\n",
    "            content = row['Content']\n",
    "            if isinstance(content, str):\n",
    "                # Check if it's a subsection\n",
    "                if content.startswith('**'):\n",
    "                    # Extract subsection title\n",
    "                    sub_title_end = content.find('**', 2)\n",
    "                    if sub_title_end != -1:\n",
    "                        sub_title = content[2:sub_title_end]\n",
    "                        sub_content = content[sub_title_end+2:].strip()\n",
    "                        print(f\"\\n{sub_title}\")\n",
    "                        print(\"-\" * 40)\n",
    "                        # Format the subcontent with proper line breaks\n",
    "                        words = sub_content.split()\n",
    "                        formatted_text = \"\"\n",
    "                        line = \"\"\n",
    "                        for word in words:\n",
    "                            if len(line) + len(word) + 1 <= 100:\n",
    "                                if line:\n",
    "                                    line += \" \" + word\n",
    "                                else:\n",
    "                                    line = word\n",
    "                            else:\n",
    "                                formatted_text += line + \"\\n\"\n",
    "                                line = word\n",
    "                        if line:\n",
    "                            formatted_text += line\n",
    "                        print(formatted_text)\n",
    "                    else:\n",
    "                        print(content)\n",
    "                else:\n",
    "                    # Format the content with proper line breaks\n",
    "                    words = content.split()\n",
    "                    formatted_text = \"\"\n",
    "                    line = \"\"\n",
    "                    for word in words:\n",
    "                        if len(line) + len(word) + 1 <= 100:\n",
    "                            if line:\n",
    "                                line += \" \" + word\n",
    "                            else:\n",
    "                                line = word\n",
    "                        else:\n",
    "                            formatted_text += line + \"\\n\"\n",
    "                            line = word\n",
    "                    if line:\n",
    "                        formatted_text += line\n",
    "                    print(formatted_text)\n",
    "                    print()\n",
    "\n",
    "# Function to analyze food products\n",
    "def analyze_food_product():\n",
    "    product = get_product_from_user()\n",
    "\n",
    "    if product == \"main_menu\":\n",
    "        return\n",
    "\n",
    "    if not product:\n",
    "        print(\"No product data available.\")\n",
    "        return\n",
    "\n",
    "    # Loop to stay within the product analysis menu\n",
    "    while True:\n",
    "        print(\"\\nProduct Analysis Options:\")\n",
    "        print(\"1. Allergen Check\")\n",
    "        print(\"2. Processing Score\")\n",
    "        print(\"3. Find Healthier Alternatives\")\n",
    "        print(\"4. Nutritional Analysis\")\n",
    "        print(\"5. Go Back to Main Menu\")\n",
    "\n",
    "        choice = input(\"\\nSelect analysis type (1-5): \")\n",
    "\n",
    "        if choice == \"1\":\n",
    "            # Allergen check\n",
    "            allergens = check_allergens(product)\n",
    "            print(f\"\\nAllergen Information: {allergens}\")\n",
    "\n",
    "        elif choice == \"2\":\n",
    "            # Processing score\n",
    "            score = calculate_processing_score(product)\n",
    "            nova = product.get(\"nova_group\", 4)\n",
    "            nova_explanation = get_nova_explanation(nova)\n",
    "\n",
    "            print(f\"\\nProcessing Score: {score:.1f}/100\")\n",
    "            print(f\"NOVA Group: {nova} - {nova_explanation}\")\n",
    "\n",
    "            # Display additives\n",
    "            additives = product.get(\"additives_tags\", [])\n",
    "            if additives:\n",
    "                print(\"\\nAdditives:\")\n",
    "                for additive in additives:\n",
    "                    print(f\"- {additive.replace('en:', '')}\")\n",
    "            else:\n",
    "                print(\"\\nNo additives listed.\")\n",
    "\n",
    "        elif choice == \"3\":\n",
    "            # Find healthier alternatives\n",
    "            analyze_healthier_alternatives(product)\n",
    "\n",
    "        elif choice == \"4\":\n",
    "            # Nutritional analysis\n",
    "            print(\"\\nNutritional Analysis:\")\n",
    "            # Use the global processed_table table\n",
    "            global processed_table\n",
    "            calculate_dv_with_portion_size(product, processed_table)\n",
    "\n",
    "        elif choice == \"5\":\n",
    "            # Return to main menu\n",
    "            return\n",
    "\n",
    "        else:\n",
    "            print(\"\\nInvalid choice.\")"
   ]
  },
  {
   "cell_type": "markdown",
   "metadata": {
    "id": "TgkWuVEulEmx"
   },
   "source": [
    "7. Main Function"
   ]
  },
  {
   "cell_type": "markdown",
   "metadata": {},
   "source": [
    "### Demo 1--Search by name"
   ]
  },
  {
   "cell_type": "code",
   "execution_count": 30,
   "metadata": {
    "colab": {
     "base_uri": "https://localhost:8080/",
     "height": 1000
    },
    "id": "6JLsomcPvy-V",
    "outputId": "83f52814-d515-4a3c-9eaa-08622aa8fe17"
   },
   "outputs": [
    {
     "name": "stdout",
     "output_type": "stream",
     "text": [
      "\n",
      "==================================================\n",
      "DIETARY COMPASS: PERSONALIZED FOOD CHOICE NAVIGATOR\n",
      "==================================================\n",
      "\n",
      "Please select a tool:\n",
      "1. Food Product Analyzer - Analyze food products in different ways\n",
      "2. Know more about nutrition tag - Learn how to interpret food labels\n",
      "3. Exit\n",
      "--------------------------------------------------\n"
     ]
    },
    {
     "name": "stdin",
     "output_type": "stream",
     "text": [
      "\n",
      "Enter your choice (1-3):  1\n"
     ]
    },
    {
     "name": "stdout",
     "output_type": "stream",
     "text": [
      "\n",
      "Search Options:\n",
      "1. Search by Product Name\n",
      "2. Search by Barcode\n",
      "3. Go Back to Main Menu\n"
     ]
    },
    {
     "name": "stdin",
     "output_type": "stream",
     "text": [
      "Select (1-3):  1\n",
      "\n",
      "Enter a food name (e.g., 'chocolate', 'milk', 'pasta'):  nutella\n"
     ]
    },
    {
     "name": "stdout",
     "output_type": "stream",
     "text": [
      "\n",
      "Searching for nutella...\n",
      "\n",
      "Available products:\n",
      "1. Nutella (Barcode: 3017620425035)\n",
      "2. Nutella (Barcode: 3017620422003)\n",
      "3. Biscuits croquants au coeur onctueux de Nutella® (Barcode: 8000500310427)\n",
      "4. Nutella (Barcode: 3017620429484)\n",
      "5. nutella (Barcode: 59032823)\n",
      "6. Лешниково-какаов крем (Barcode: 80176800)\n",
      "7. Nutella (Barcode: 4008400401621)\n",
      "8. Nutella (Barcode: 8000500179864)\n",
      "9. Nutella (Barcode: 4008400404127)\n",
      "10. Pâte à tartiner Nutella noisettes et cacao - 750g (Barcode: 3017620421006)\n",
      "11. Go Back to Search Options\n"
     ]
    },
    {
     "name": "stdin",
     "output_type": "stream",
     "text": [
      "\n",
      "Select a product by number:  2\n"
     ]
    },
    {
     "name": "stdout",
     "output_type": "stream",
     "text": [
      "\n",
      "Product Analysis Options:\n",
      "1. Allergen Check\n",
      "2. Processing Score\n",
      "3. Find Healthier Alternatives\n",
      "4. Nutritional Analysis\n",
      "5. Go Back to Main Menu\n"
     ]
    },
    {
     "name": "stdin",
     "output_type": "stream",
     "text": [
      "\n",
      "Select analysis type (1-5):  1\n"
     ]
    },
    {
     "name": "stdout",
     "output_type": "stream",
     "text": [
      "\n",
      "Allergen Information: Milk, Nuts, Soybeans\n",
      "\n",
      "Product Analysis Options:\n",
      "1. Allergen Check\n",
      "2. Processing Score\n",
      "3. Find Healthier Alternatives\n",
      "4. Nutritional Analysis\n",
      "5. Go Back to Main Menu\n"
     ]
    },
    {
     "name": "stdin",
     "output_type": "stream",
     "text": [
      "\n",
      "Select analysis type (1-5):  2\n"
     ]
    },
    {
     "name": "stdout",
     "output_type": "stream",
     "text": [
      "\n",
      "Processing Score: 30.0/100\n",
      "NOVA Group: 4 - Ultra-processed foods\n",
      "\n",
      "Additives:\n",
      "- e322\n",
      "- e322i\n",
      "\n",
      "Product Analysis Options:\n",
      "1. Allergen Check\n",
      "2. Processing Score\n",
      "3. Find Healthier Alternatives\n",
      "4. Nutritional Analysis\n",
      "5. Go Back to Main Menu\n"
     ]
    },
    {
     "name": "stdin",
     "output_type": "stream",
     "text": [
      "\n",
      "Select analysis type (1-5):  3\n"
     ]
    },
    {
     "name": "stdout",
     "output_type": "stream",
     "text": [
      "\n",
      "Finding healthier alternatives for Nutella...\n",
      "Search strategy: Using terms spreads, breakfasts, nutella\n",
      "Found 124 products to analyze.\n",
      "\n",
      "Top 5 Most Relevant Healthy Alternatives:\n",
      "\n",
      "1. Nutella & Go 52 g\n",
      "   Nutri-Score: D\n",
      "   Calories: 264.0 kcal per 100g\n",
      "   Sugar: 22.7g per 100g\n",
      "   Fat: 13.1g per 100g\n",
      "   Benefits: Lower calories, Lower sugar, Lower fat\n",
      "   ✓ Similar category\n",
      "\n",
      "2. cruesly mélange de noix\n",
      "   Nutri-Score: B\n",
      "   Calories: 462.0 kcal per 100g\n",
      "   Sugar: 12.0g per 100g\n",
      "   Fat: 19.0g per 100g\n",
      "   Benefits: Lower calories, Lower sugar, Lower fat\n",
      "   ✓ Similar category\n",
      "\n",
      "3. Quaker Rolled Oats\n",
      "   Nutri-Score: A\n",
      "   Calories: 374.0 kcal per 100g\n",
      "   Sugar: 1.1g per 100g\n",
      "   Fat: 8.0g per 100g\n",
      "   Benefits: Lower calories, Lower sugar, Lower fat\n",
      "   ✓ Similar category\n",
      "\n",
      "4. Muesli Superfruits\n",
      "   Nutri-Score: A\n",
      "   Calories: 357.0 kcal per 100g\n",
      "   Sugar: 14.0g per 100g\n",
      "   Fat: 6.0g per 100g\n",
      "   Benefits: Lower calories, Lower sugar, Lower fat\n",
      "   ✓ Similar category\n",
      "\n",
      "5. Simply nutty muesli\n",
      "   Nutri-Score: A\n",
      "   Calories: 376.0 kcal per 100g\n",
      "   Sugar: 14.2g per 100g\n",
      "   Fat: 6.8g per 100g\n",
      "   Benefits: Lower calories, Lower sugar, Lower fat\n",
      "   ✓ Similar category\n",
      "\n",
      "\n",
      "Product Analysis Options:\n",
      "1. Allergen Check\n",
      "2. Processing Score\n",
      "3. Find Healthier Alternatives\n",
      "4. Nutritional Analysis\n",
      "5. Go Back to Main Menu\n"
     ]
    },
    {
     "name": "stdin",
     "output_type": "stream",
     "text": [
      "\n",
      "Select analysis type (1-5):  4\n"
     ]
    },
    {
     "name": "stdout",
     "output_type": "stream",
     "text": [
      "\n",
      "Nutritional Analysis:\n",
      "Serving Size: 15.0g\n",
      "Total fat: 4.63g (5.94% DV)\n",
      "Saturated fatty acids: 1.59g (7.95% DV)\n",
      "Sodium: 0.01mg (0.00% DV)\n",
      "Total carbohydrate: 8.62g (3.14% DV)\n",
      "Added sugars: 8.45g (16.89% DV)\n",
      "Protein: 0.94g (1.89% DV)\n"
     ]
    },
    {
     "data": {
      "image/png": "[encoded data removed]",
      "text/plain": [
       "<Figure size 1000x600 with 1 Axes>"
      ]
     },
     "metadata": {},
     "output_type": "display_data"
    },
    {
     "name": "stdout",
     "output_type": "stream",
     "text": [
      "\n",
      "Product Analysis Options:\n",
      "1. Allergen Check\n",
      "2. Processing Score\n",
      "3. Find Healthier Alternatives\n",
      "4. Nutritional Analysis\n",
      "5. Go Back to Main Menu\n"
     ]
    },
    {
     "name": "stdin",
     "output_type": "stream",
     "text": [
      "\n",
      "Select analysis type (1-5):  5\n"
     ]
    },
    {
     "name": "stdout",
     "output_type": "stream",
     "text": [
      "\n",
      "==================================================\n",
      "DIETARY COMPASS: PERSONALIZED FOOD CHOICE NAVIGATOR\n",
      "==================================================\n",
      "\n",
      "Please select a tool:\n",
      "1. Food Product Analyzer - Analyze food products in different ways\n",
      "2. Know more about nutrition tag - Learn how to interpret food labels\n",
      "3. Exit\n",
      "--------------------------------------------------\n"
     ]
    },
    {
     "name": "stdin",
     "output_type": "stream",
     "text": [
      "\n",
      "Enter your choice (1-3):  3\n"
     ]
    },
    {
     "name": "stdout",
     "output_type": "stream",
     "text": [
      "\n",
      "Thank you for using Dietary Compass! Goodbye!\n"
     ]
    }
   ],
   "source": [
    "# Function to ensure proper menu navigation\n",
    "def ensure_menu_navigation():\n",
    "    while True:\n",
    "        print(\"\\n\" + \"=\"*50)\n",
    "        print(\"DIETARY COMPASS: PERSONALIZED FOOD CHOICE NAVIGATOR\")\n",
    "        print(\"=\"*50)\n",
    "        print(\"\\nPlease select a tool:\")\n",
    "        print(\"1. Food Product Analyzer - Analyze food products in different ways\")\n",
    "        print(\"2. Know more about nutrition tag - Learn how to interpret food labels\")\n",
    "        print(\"3. Exit\")\n",
    "        print(\"-\"*50)\n",
    "\n",
    "        choice = input(\"\\nEnter your choice (1-3): \")\n",
    "\n",
    "        if choice == \"1\":\n",
    "            analyze_food_product()\n",
    "\n",
    "        elif choice == \"2\":\n",
    "            integrate_fda_education()\n",
    "\n",
    "        elif choice == \"3\":\n",
    "            print(\"\\nThank you for using Dietary Compass! Goodbye!\")\n",
    "            break\n",
    "\n",
    "        else:\n",
    "            print(\"\\nInvalid choice. Please enter a number between 1 and 3.\")\n",
    "\n",
    "# Main function to run the Dietary Compass application\n",
    "def main():\n",
    "    ensure_menu_navigation()\n",
    "if __name__ == \"__main__\":\n",
    "    main()"
   ]
  },
  {
   "cell_type": "markdown",
   "metadata": {},
   "source": [
    "### Demo 2--Search by barcode"
   ]
  },
  {
   "cell_type": "code",
   "execution_count": 50,
   "metadata": {},
   "outputs": [
    {
     "name": "stdout",
     "output_type": "stream",
     "text": [
      "\n",
      "==================================================\n",
      "DIETARY COMPASS: PERSONALIZED FOOD CHOICE NAVIGATOR\n",
      "==================================================\n",
      "\n",
      "Please select a tool:\n",
      "1. Food Product Analyzer - Analyze food products in different ways\n",
      "2. Know more about nutrition tag - Learn how to interpret food labels\n",
      "3. Exit\n",
      "--------------------------------------------------\n"
     ]
    },
    {
     "name": "stdin",
     "output_type": "stream",
     "text": [
      "\n",
      "Enter your choice (1-3):  1\n"
     ]
    },
    {
     "name": "stdout",
     "output_type": "stream",
     "text": [
      "\n",
      "Search Options:\n",
      "1. Search by Product Name\n",
      "2. Search by Barcode\n",
      "3. Go Back to Main Menu\n"
     ]
    },
    {
     "name": "stdin",
     "output_type": "stream",
     "text": [
      "Select (1-3):  2\n",
      "\n",
      "Enter product barcode:  767707001203\n"
     ]
    },
    {
     "name": "stdout",
     "output_type": "stream",
     "text": [
      "\n",
      "Searching for barcode 767707001203...\n",
      "\n",
      "Product Analysis Options:\n",
      "1. Allergen Check\n",
      "2. Processing Score\n",
      "3. Find Healthier Alternatives\n",
      "4. Nutritional Analysis\n",
      "5. Go Back to Main Menu\n"
     ]
    },
    {
     "name": "stdin",
     "output_type": "stream",
     "text": [
      "\n",
      "Select analysis type (1-5):  1\n"
     ]
    },
    {
     "name": "stdout",
     "output_type": "stream",
     "text": [
      "\n",
      "Allergen Information: Milk\n",
      "\n",
      "Product Analysis Options:\n",
      "1. Allergen Check\n",
      "2. Processing Score\n",
      "3. Find Healthier Alternatives\n",
      "4. Nutritional Analysis\n",
      "5. Go Back to Main Menu\n"
     ]
    },
    {
     "name": "stdin",
     "output_type": "stream",
     "text": [
      "\n",
      "Select analysis type (1-5):  2\n"
     ]
    },
    {
     "name": "stdout",
     "output_type": "stream",
     "text": [
      "\n",
      "Processing Score: 70.0/100\n",
      "NOVA Group: 2 - Processed culinary ingredients\n",
      "\n",
      "No additives listed.\n",
      "\n",
      "Product Analysis Options:\n",
      "1. Allergen Check\n",
      "2. Processing Score\n",
      "3. Find Healthier Alternatives\n",
      "4. Nutritional Analysis\n",
      "5. Go Back to Main Menu\n"
     ]
    },
    {
     "name": "stdin",
     "output_type": "stream",
     "text": [
      "\n",
      "Select analysis type (1-5):  3\n"
     ]
    },
    {
     "name": "stdout",
     "output_type": "stream",
     "text": [
      "\n",
      "Finding healthier alternatives for Garlic & herb butter...\n",
      "Search strategy: Using terms butter, fats, kerrygold\n",
      "Found 137 products to analyze.\n",
      "\n",
      "Top 5 Most Relevant Healthy Alternatives:\n",
      "\n",
      "1. Peanut butter Creamy\n",
      "   Nutri-Score: C\n",
      "   Calories: 593.0 kcal per 100g\n",
      "   Sugar: 9.4g per 100g\n",
      "   Fat: 46.0g per 100g\n",
      "   Benefits: Lower calories, Lower fat\n",
      "   ✓ Similar category\n",
      "\n",
      "2. Kerrygold extra\n",
      "   Nutri-Score: D\n",
      "   Calories: 589.0 kcal per 100g\n",
      "   Sugar: 0.5g per 100g\n",
      "   Fat: 65.0g per 100g\n",
      "   Benefits: Lower calories, Lower fat\n",
      "   ✓ Similar category\n",
      "\n",
      "3. Familia\n",
      "   Nutri-Score: C\n",
      "   Calories: 532.0 kcal per 100g\n",
      "   Sugar: 0.0g per 100g\n",
      "   Fat: 60.0g per 100g\n",
      "   Benefits: Lower calories, Lower fat\n",
      "   ✓ Similar category\n",
      "\n",
      "4. Lurpak Lighter\n",
      "   Nutri-Score: D\n",
      "   Calories: 516.0 kcal per 100g\n",
      "   Sugar: 0.4g per 100g\n",
      "   Fat: 57.0g per 100g\n",
      "   Benefits: Lower calories, Lower fat\n",
      "   ✓ Similar category\n",
      "\n",
      "5. Primevère\n",
      "   Nutri-Score: C\n",
      "   Calories: 485.0 kcal per 100g\n",
      "   Sugar: 0.0g per 100g\n",
      "   Fat: 55.0g per 100g\n",
      "   Benefits: Lower calories, Lower fat\n",
      "   ✓ Similar category\n",
      "\n",
      "\n",
      "Product Analysis Options:\n",
      "1. Allergen Check\n",
      "2. Processing Score\n",
      "3. Find Healthier Alternatives\n",
      "4. Nutritional Analysis\n",
      "5. Go Back to Main Menu\n"
     ]
    },
    {
     "name": "stdin",
     "output_type": "stream",
     "text": [
      "\n",
      "Select analysis type (1-5):  4\n"
     ]
    },
    {
     "name": "stdout",
     "output_type": "stream",
     "text": [
      "\n",
      "Nutritional Analysis:\n",
      "Serving Size: 14.0g\n",
      "Total fat: 10.00g (12.82% DV)\n",
      "Saturated fatty acids: 7.00g (35.00% DV)\n",
      "Cholesterol: 0.03mg (0.01% DV)\n",
      "Sodium: 0.09mg (0.00% DV)\n",
      "Total carbohydrate: 0.00g (0.00% DV)\n",
      "Added sugars: 0.00g (0.00% DV)\n",
      "Dietary fiber: 0.00g (0.00% DV)\n",
      "Protein: 0.00g (0.00% DV)\n"
     ]
    },
    {
     "data": {
      "image/png": "[encoded data removed]",
      "text/plain": [
       "<Figure size 1000x600 with 1 Axes>"
      ]
     },
     "metadata": {},
     "output_type": "display_data"
    },
    {
     "name": "stdout",
     "output_type": "stream",
     "text": [
      "\n",
      "Product Analysis Options:\n",
      "1. Allergen Check\n",
      "2. Processing Score\n",
      "3. Find Healthier Alternatives\n",
      "4. Nutritional Analysis\n",
      "5. Go Back to Main Menu\n"
     ]
    },
    {
     "name": "stdin",
     "output_type": "stream",
     "text": [
      "\n",
      "Select analysis type (1-5):  5\n"
     ]
    },
    {
     "name": "stdout",
     "output_type": "stream",
     "text": [
      "\n",
      "==================================================\n",
      "DIETARY COMPASS: PERSONALIZED FOOD CHOICE NAVIGATOR\n",
      "==================================================\n",
      "\n",
      "Please select a tool:\n",
      "1. Food Product Analyzer - Analyze food products in different ways\n",
      "2. Know more about nutrition tag - Learn how to interpret food labels\n",
      "3. Exit\n",
      "--------------------------------------------------\n"
     ]
    },
    {
     "name": "stdin",
     "output_type": "stream",
     "text": [
      "\n",
      "Enter your choice (1-3):  3\n"
     ]
    },
    {
     "name": "stdout",
     "output_type": "stream",
     "text": [
      "\n",
      "Thank you for using Dietary Compass! Goodbye!\n"
     ]
    }
   ],
   "source": [
    "# Main function to run the Dietary Compass application\n",
    "def main():\n",
    "    ensure_menu_navigation()\n",
    "if __name__ == \"__main__\":\n",
    "    main()"
   ]
  },
  {
   "cell_type": "markdown",
   "metadata": {},
   "source": [
    "### Demo 3--Know more about nutrition tag"
   ]
  },
  {
   "cell_type": "code",
   "execution_count": 52,
   "metadata": {},
   "outputs": [
    {
     "name": "stdout",
     "output_type": "stream",
     "text": [
      "\n",
      "==================================================\n",
      "DIETARY COMPASS: PERSONALIZED FOOD CHOICE NAVIGATOR\n",
      "==================================================\n",
      "\n",
      "Please select a tool:\n",
      "1. Food Product Analyzer - Analyze food products in different ways\n",
      "2. Know more about nutrition tag - Learn how to interpret food labels\n",
      "3. Exit\n",
      "--------------------------------------------------\n"
     ]
    },
    {
     "name": "stdin",
     "output_type": "stream",
     "text": [
      "\n",
      "Enter your choice (1-3):  2\n"
     ]
    },
    {
     "name": "stdout",
     "output_type": "stream",
     "text": [
      "\n",
      "Nutrition Facts Label Information Sections:\n",
      "1. Serving Information\n",
      "2. Calories\n",
      "3. Nutrients\n",
      "4. The Percent Daily Value (%DV)\n",
      "5. Return to Main Menu\n"
     ]
    },
    {
     "name": "stdin",
     "output_type": "stream",
     "text": [
      "\n",
      "Select a section to learn more (1-5):  1\n"
     ]
    },
    {
     "name": "stdout",
     "output_type": "stream",
     "text": [
      "\n",
      "1. Serving Information\n",
      "--------------------------------------------------\n",
      "When looking at the Nutrition Facts label, first take a look at the number of servings in the\n",
      "package (servings per container) and the serving size. Serving sizes are standardized to make it\n",
      "easier to compare similar foods; they are provided in familiar units, such as cups or pieces,\n",
      "followed by the metric amount, e.g., the number of grams (g). The serving size reflects the amount\n",
      "that people typically eat or drink. **It is not a recommendation of how much you should eat or\n",
      "drink**.\n",
      "\n",
      "It’s important to realize that all the nutrient amounts shown on the label, including the number of\n",
      "calories, refer to the size of the serving. **Pay attention to the serving size, especially how many\n",
      "servings there are in the food package. For example, you might ask yourself if you are consuming ½\n",
      "serving, 1 serving, or more**. In the sample label, one serving of lasagna equals 1 cup. If you ate\n",
      "two cups, you would be consuming two servings. That is two times the calories and nutrients shown in\n",
      "the sample label, so you would need to double the nutrient and calorie amounts, as well as the %DVs,\n",
      "to see what you are getting in two servings.\n",
      "\n",
      "\n",
      "Nutrition Facts Label Information Sections:\n",
      "1. Serving Information\n",
      "2. Calories\n",
      "3. Nutrients\n",
      "4. The Percent Daily Value (%DV)\n",
      "5. Return to Main Menu\n"
     ]
    },
    {
     "name": "stdin",
     "output_type": "stream",
     "text": [
      "\n",
      "Select a section to learn more (1-5):  2\n"
     ]
    },
    {
     "name": "stdout",
     "output_type": "stream",
     "text": [
      "\n",
      "2. Calories\n",
      "--------------------------------------------------\n",
      "Calories provide a measure of how much energy you get from a serving of this food. In the example,\n",
      "there are **280 calories** in one serving of lasagna. What if you ate the entire package? Then, you\n",
      "would consume 4 servings, or **1,120 calories**.\n",
      "\n",
      "To achieve or maintain a healthy body weight, balance the number of calories you eat and drink with\n",
      "the number of calories your body uses. 2,000 calories a day is used as a general guide for nutrition\n",
      "advice. Your calorie needs may be higher or lower and vary depending on your age, sex, height,\n",
      "weight, and physical activity level. Learn your estimated calorie needs at\n",
      "[https://www.myplate.gov/myplate-plan](https://www.myplate.gov/myplate-plan).\n",
      "\n",
      "\n",
      "Remember: The number of servings you consume determines the number of calories you actually eat. Eating too many calories per day is linked to overweight and obesity.\n",
      "----------------------------------------\n",
      "\n",
      "\n",
      "Nutrition Facts Label Information Sections:\n",
      "1. Serving Information\n",
      "2. Calories\n",
      "3. Nutrients\n",
      "4. The Percent Daily Value (%DV)\n",
      "5. Return to Main Menu\n"
     ]
    },
    {
     "name": "stdin",
     "output_type": "stream",
     "text": [
      "\n",
      "Select a section to learn more (1-5):  3\n"
     ]
    },
    {
     "name": "stdout",
     "output_type": "stream",
     "text": [
      "\n",
      "3. Nutrients\n",
      "--------------------------------------------------\n",
      "Nutrients to get less of: Saturated Fat, Sodium, and Added Sugars. Saturated fat, sodium, and added\n",
      "sugars are nutrients listed on the label that may be associated with adverse health effects – and\n",
      "Americans generally consume too much of them. They are identified as **nutrients to get less of**.\n",
      "Eating too much saturated fat and sodium, for example, is associated with an increased risk of\n",
      "developing some health conditions, like cardiovascular disease and high blood pressure. Consuming\n",
      "too much added sugars can make it hard to meet important nutrient needs while staying within calorie\n",
      "limits.\n",
      "\n",
      "\n",
      "What are Added Sugars and How are they Different from Total Sugars?\n",
      "----------------------------------------\n",
      "\n",
      "\n",
      "Total Sugars\n",
      "----------------------------------------\n",
      "on the Nutrition Facts label includes sugars naturally present in many nutritious foods and\n",
      "beverages, such as sugar in milk and fruit as well as any added sugars that may be present in the\n",
      "product. No Daily Reference Value has been established for total sugars because no recommendation\n",
      "has been made for the total amount to eat in a day.\n",
      "\n",
      "Added Sugars\n",
      "----------------------------------------\n",
      "on the Nutrition Facts label include sugars that are added during the processing of foods (such as\n",
      "sucrose or dextrose), foods packaged as sweeteners (such as table sugar), sugars from syrups and\n",
      "honey, and sugars from concentrated fruit or vegetable juices. Diets high in calories from added\n",
      "sugars can make it difficult to meet daily recommended levels of important nutrients while staying\n",
      "within calorie limits.\n",
      "Note: Having the word “includes” before Added Sugars on the label indicates that Added Sugars are\n",
      "included in the number of grams of Total Sugars in the product.\n",
      "\n",
      "Nutrients to get more of: Dietary Fiber, Vitamin D, Calcium, Iron, and Potassium. Dietary fiber,\n",
      "vitamin D, calcium, iron and potassium are nutrients on the label that Americans generally do not\n",
      "get the recommended amount of. They are identified as **nutrients to get more of**. Eating a diet\n",
      "high in dietary fiber can increase the frequency of bowel movements, lower blood glucose and\n",
      "cholesterol levels, and reduce calorie intake. Diets higher in vitamin D, calcium, iron, and\n",
      "potassium can reduce the risk of developing osteoporosis, anemia, and high blood pressure.\n",
      "\n",
      "\n",
      "Nutrition Facts Label Information Sections:\n",
      "1. Serving Information\n",
      "2. Calories\n",
      "3. Nutrients\n",
      "4. The Percent Daily Value (%DV)\n",
      "5. Return to Main Menu\n"
     ]
    },
    {
     "name": "stdin",
     "output_type": "stream",
     "text": [
      "\n",
      "Select a section to learn more (1-5):  4\n"
     ]
    },
    {
     "name": "stdout",
     "output_type": "stream",
     "text": [
      "\n",
      "4. The Percent Daily Value (%DV)\n",
      "--------------------------------------------------\n",
      "The % Daily Value (%DV) is the percentage of the Daily Value for each nutrient in a serving of the\n",
      "food. The Daily Values are reference amounts (expressed in grams, milligrams, or micrograms) of\n",
      "nutrients to consume or not to exceed each day.\n",
      "\n",
      "The %DV shows how much a nutrient in a serving of a food contributes to a total daily diet.\n",
      "\n",
      "The %DV helps you determine if a serving of food is high or low in a nutrient.\n",
      "\n",
      "Do you need to know how to calculate percentages to use the %DV? No, because the label (the %DV)\n",
      "does the math for you! It helps you interpret the nutrient numbers (grams, milligrams, or\n",
      "micrograms) by putting them all on the same scale for the day (0-100%DV). The %DV column doesn't add\n",
      "up vertically to 100%. Instead, the %DV is the **percentage of the Daily Value** for each nutrient\n",
      "in a serving of the food. It can tell you if a serving of food is high or low in a nutrient and\n",
      "whether a serving of the food contributes a lot, or a little, to your daily diet for each nutrient.\n",
      "\n",
      "Note: some nutrients on the Nutrition Facts label, like total sugars and fat, do not have a %DV –\n",
      "they will be discussed later.\n",
      "\n",
      "\n",
      "Compare Foods\n",
      "----------------------------------------\n",
      ": Use %DV to compare food products (remember to make sure the serving size is the same) and more\n",
      "often choose products that are higher in nutrients you want to get more of and lower in nutrients\n",
      "you want to get less of.\n",
      "\n",
      "Understand Nutrient Content Claims\n",
      "----------------------------------------\n",
      ": Use %DV to help distinguish one claim from another, such as \"light,” “low,” and “reduced.” Simply\n",
      "compare %DVs in each food product to see which one is higher or lower in a particular nutrient.\n",
      "There is no need to memorize definitions.\n",
      "\n",
      "Dietary Trade-Offs\n",
      "----------------------------------------\n",
      ": You can use the %DV to help you make dietary trade-offs with other foods throughout the day. You\n",
      "don't have to give up a favorite food to eat a healthy diet. When a food you like is high in\n",
      "saturated fat, balance it with foods that are low in saturated fat at other times of the day. Also,\n",
      "pay attention to how much you eat during the entire day, so that the total amount of saturated fat,\n",
      "as well as other nutrients you want to limit, stays below 100%DV.\n",
      "According to the , there is evidence that diets higher in fat are associated with increased blood\n",
      "levels of low-density lipoprotein (LDL or “bad”) cholesterol—which, in turn, are associated with an\n",
      "**increased risk of developing cardiovascular disease**. Note: most uses of artificial fat in the\n",
      "U.S. food supply have been phased out as of 2018.\n",
      "\n",
      "Protein: A %DV is required to be listed if a claim is made for protein, such as \"high in protein.\"\n",
      "The %DV for protein must also be listed on the label if the product is intended for infants and\n",
      "children under 4 years of age. However, if the product is intended for the general population 4\n",
      "years of age and older and a claim is not made about protein on the label, the %DV for protein is\n",
      "not required.\n",
      "\n",
      "Current scientific evidence indicates that protein intake is not a public health concern for adults\n",
      "and children over 4 years of age in the United States.\n",
      "\n",
      "Total Sugars: No Daily Reference Value has been established for Total Sugars because no\n",
      "recommendations have been made for the total amount to eat in a day. Keep in mind that the Total\n",
      "Sugars listed on the Nutrition Facts label include naturally occurring sugars (like those in fruit\n",
      "and milk) as well as Added Sugars.\n",
      "\n",
      "\n",
      "Nutrition Facts Label Information Sections:\n",
      "1. Serving Information\n",
      "2. Calories\n",
      "3. Nutrients\n",
      "4. The Percent Daily Value (%DV)\n",
      "5. Return to Main Menu\n"
     ]
    },
    {
     "name": "stdin",
     "output_type": "stream",
     "text": [
      "\n",
      "Select a section to learn more (1-5):  5\n"
     ]
    },
    {
     "name": "stdout",
     "output_type": "stream",
     "text": [
      "\n",
      "==================================================\n",
      "DIETARY COMPASS: PERSONALIZED FOOD CHOICE NAVIGATOR\n",
      "==================================================\n",
      "\n",
      "Please select a tool:\n",
      "1. Food Product Analyzer - Analyze food products in different ways\n",
      "2. Know more about nutrition tag - Learn how to interpret food labels\n",
      "3. Exit\n",
      "--------------------------------------------------\n"
     ]
    },
    {
     "name": "stdin",
     "output_type": "stream",
     "text": [
      "\n",
      "Enter your choice (1-3):  3\n"
     ]
    },
    {
     "name": "stdout",
     "output_type": "stream",
     "text": [
      "\n",
      "Thank you for using Dietary Compass! Goodbye!\n"
     ]
    }
   ],
   "source": [
    "# Main function to run the Dietary Compass application\n",
    "def main():\n",
    "    ensure_menu_navigation()\n",
    "if __name__ == \"__main__\":\n",
    "    main()"
   ]
  }
 ],
 "metadata": {
  "colab": {
   "provenance": []
  },
  "kernelspec": {
   "display_name": "Python 3 (ipykernel)",
   "language": "python",
   "name": "python3"
  },
  "language_info": {
   "codemirror_mode": {
    "name": "ipython",
    "version": 3
   },
   "file_extension": ".py",
   "mimetype": "text/x-python",
   "name": "python",
   "nbconvert_exporter": "python",
   "pygments_lexer": "ipython3",
   "version": "3.12.7"
  }
 },
 "nbformat": 4,
 "nbformat_minor": 4
}
